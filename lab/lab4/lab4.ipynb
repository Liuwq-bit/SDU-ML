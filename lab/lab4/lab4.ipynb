{
 "cells": [
  {
   "cell_type": "code",
   "execution_count": 1,
   "metadata": {},
   "outputs": [],
   "source": [
    "import numpy as np\n",
    "import matplotlib.pyplot as plt"
   ]
  },
  {
   "cell_type": "code",
   "execution_count": 2,
   "metadata": {},
   "outputs": [],
   "source": [
    "training_data = np.loadtxt('data4/training_data.txt', dtype=np.int32)  # 载入数据\n",
    "test_data = np.loadtxt('data4/test_data.txt', dtype=np.int32)"
   ]
  },
  {
   "cell_type": "code",
   "execution_count": 3,
   "metadata": {},
   "outputs": [
    {
     "data": {
      "text/plain": [
       "[2, 4, 3, 3, 2, 1, 2, 2, 4]"
      ]
     },
     "execution_count": 3,
     "metadata": {},
     "output_type": "execute_result"
    }
   ],
   "source": [
    "num = []\n",
    "for i in range(training_data.shape[1]):\n",
    "    num.append(training_data[:, i].max())\n",
    "num"
   ]
  },
  {
   "cell_type": "code",
   "execution_count": 226,
   "metadata": {},
   "outputs": [],
   "source": [
    "def cal_prob(data):\n",
    "    m, n = data.shape\n",
    "    # print(training_data.shape)\n",
    "\n",
    "    p_1, p_2 = [], []\n",
    "    pred = data[:, -1]\n",
    "    for i in range(num[-1]+1):   # 每种预测结果\n",
    "        p_1.append((pred == i).sum() / m) # 该种预测结果的概率\n",
    "        temp_1 = []\n",
    "        for j in range(n):   # n-1种影响因素\n",
    "            temp_2 = []\n",
    "            temp_data = np.array([data[:, j][k] for k in range(m) if pred[k] == i])\n",
    "            for k in range(num[j]+1):\n",
    "                if (pred == i).sum() != 0:\n",
    "                    temp_2.append((temp_data == k).sum() / (pred == i).sum())\n",
    "                else:\n",
    "                    temp_2.append(0)\n",
    "            temp_1.append(temp_2)\n",
    "        p_2.append(temp_1)\n",
    "    return p_1, p_2"
   ]
  },
  {
   "cell_type": "code",
   "execution_count": 227,
   "metadata": {},
   "outputs": [],
   "source": [
    "def pred(train_data, test_data):\n",
    "    p_1, p_2 = cal_prob(train_data)\n",
    "    # print(p_1, p_2)\n",
    "    m, n = test_data.shape\n",
    "    cnt = 0\n",
    "    for i in range(m):\n",
    "        temp = []\n",
    "        for j in range(test_data[:, -1].min(), test_data[:, -1].max()+1):\n",
    "            pred_p = p_1[j]\n",
    "            for k in range(n):\n",
    "                pred_p *= p_2[j][k][test_data[i][k]]\n",
    "            temp.append(pred_p)\n",
    "        if temp.index(max(temp)) == test_data[i][-1]:\n",
    "            cnt += 1\n",
    "    return cnt / m"
   ]
  },
  {
   "cell_type": "code",
   "execution_count": 228,
   "metadata": {},
   "outputs": [],
   "source": [
    "res = pred(training_data, test_data)"
   ]
  },
  {
   "cell_type": "code",
   "execution_count": 229,
   "metadata": {},
   "outputs": [],
   "source": [
    "def get_train_data(training_data, prob=1):\n",
    "    temp = training_data.copy()\n",
    "    np.random.shuffle(temp)\n",
    "    return temp[:int(prob*temp.shape[0])]"
   ]
  },
  {
   "cell_type": "code",
   "execution_count": 230,
   "metadata": {},
   "outputs": [],
   "source": [
    "train_1 = get_train_data(training_data, prob=0.5)\n",
    "train_2 = get_train_data(training_data, prob=0.01)\n",
    "train_3 = get_train_data(training_data, prob=0.005)\n",
    "train_4 = get_train_data(training_data, prob=0.001)"
   ]
  },
  {
   "cell_type": "code",
   "execution_count": 231,
   "metadata": {},
   "outputs": [],
   "source": [
    "res_1 = pred(train_1, test_data)\n",
    "res_2 = pred(train_2, test_data)\n",
    "res_3 = pred(train_3, test_data)\n",
    "res_4 = pred(train_4, test_data)"
   ]
  },
  {
   "cell_type": "code",
   "execution_count": 232,
   "metadata": {},
   "outputs": [
    {
     "name": "stdout",
     "output_type": "stream",
     "text": [
      "0.9996621621621622\n",
      "0.9753378378378378\n",
      "0.8138513513513513\n",
      "0.3533783783783784\n"
     ]
    }
   ],
   "source": [
    "print(res_1)\n",
    "print(res_2)\n",
    "print(res_3)\n",
    "print(res_4)"
   ]
  },
  {
   "cell_type": "code",
   "execution_count": 233,
   "metadata": {},
   "outputs": [],
   "source": [
    "x = np.arange(0, 5)\n",
    "y = np.array([res, res_1, res_2, res_3, res_4])"
   ]
  },
  {
   "cell_type": "code",
   "execution_count": 235,
   "metadata": {},
   "outputs": [
    {
     "data": {
      "image/png": "[encoded data removed]",
      "text/plain": [
       "<Figure size 576x432 with 1 Axes>"
      ]
     },
     "metadata": {
      "needs_background": "light"
     },
     "output_type": "display_data"
    }
   ],
   "source": [
    "plt.figure(figsize=(8, 6))\n",
    "plt.plot(x, y, marker='o', label='accuracy')\n",
    "plt.grid()\n",
    "plt.legend()\n",
    "plt.show()"
   ]
  },
  {
   "cell_type": "code",
   "execution_count": null,
   "metadata": {},
   "outputs": [],
   "source": []
  }
 ],
 "metadata": {
  "kernelspec": {
   "display_name": "Python 3.9.7 ('base')",
   "language": "python",
   "name": "python3"
  },
  "language_info": {
   "codemirror_mode": {
    "name": "ipython",
    "version": 3
   },
   "file_extension": ".py",
   "mimetype": "text/x-python",
   "name": "python",
   "nbconvert_exporter": "python",
   "pygments_lexer": "ipython3",
   "version": "3.9.7"
  },
  "orig_nbformat": 4,
  "vscode": {
   "interpreter": {
    "hash": "49cb93f377a7abe7414b7b0f21fb3017538004a126cf690fb524202736b7fb92"
   }
  }
 },
 "nbformat": 4,
 "nbformat_minor": 2
}
