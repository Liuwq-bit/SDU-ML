{
 "cells": [
  {
   "cell_type": "code",
   "execution_count": 1,
   "metadata": {},
   "outputs": [],
   "source": [
    "import numpy as np\n",
    "import random\n",
    "import matplotlib.pyplot as plt\n",
    "from qpsolvers import solve_qp\n",
    "from skimage.io import imread, imshow"
   ]
  },
  {
   "cell_type": "code",
   "execution_count": 145,
   "metadata": {},
   "outputs": [],
   "source": [
    "class_num, image_num = 40, 10\n",
    "orl_face = []\n",
    "for i in range(1, class_num+1):\n",
    "    temp = []\n",
    "    for j in range(1, image_num+1):\n",
    "        temp.append(imread('./orl_faces/s{}/{}.pgm'.format(i, j)))\n",
    "    orl_face.append(temp)"
   ]
  },
  {
   "cell_type": "code",
   "execution_count": 146,
   "metadata": {},
   "outputs": [
    {
     "data": {
      "text/plain": [
       "<matplotlib.image.AxesImage at 0x213b195b460>"
      ]
     },
     "execution_count": 146,
     "metadata": {},
     "output_type": "execute_result"
    },
    {
     "data": {
      "image/png": "[encoded data removed]",
      "text/plain": [
       "<Figure size 432x288 with 1 Axes>"
      ]
     },
     "metadata": {
      "needs_background": "light"
     },
     "output_type": "display_data"
    }
   ],
   "source": [
    "imshow(orl_face[0][0])"
   ]
  },
  {
   "cell_type": "code",
   "execution_count": 147,
   "metadata": {},
   "outputs": [],
   "source": [
    "train_data, train_label = [], []\n",
    "test_data, test_label = [], []\n",
    "\n",
    "for i in range(len(orl_face)):\n",
    "    num = random.randint(5, 7)\n",
    "    train = random.sample(orl_face[i], num)\n",
    "    train_data = train_data + train\n",
    "    train_label = train_label + [i+1 for _ in range(num)]\n",
    "\n",
    "    temp = []\n",
    "    for j in range(len(orl_face[i])):\n",
    "        flag = True\n",
    "        for k in range(len(train)):\n",
    "            if (orl_face[i][j] == train[k]).all():\n",
    "                flag = False\n",
    "                break\n",
    "        if flag:\n",
    "            temp.append(orl_face[i][j])\n",
    "                        \n",
    "    test_data = test_data + temp\n",
    "    test_label = test_label + [i+1 for _ in range(10-num)]"
   ]
  },
  {
   "cell_type": "markdown",
   "metadata": {},
   "source": [
    "对数据集进行处理，$x^{(i)}$为列向量："
   ]
  },
  {
   "cell_type": "code",
   "execution_count": 148,
   "metadata": {},
   "outputs": [],
   "source": [
    "train_data = np.array(train_data)\n",
    "train_data = train_data.reshape(train_data.shape[0], -1).transpose()\n",
    "train_label = np.array(train_label)\n",
    "test_data = np.array(test_data)\n",
    "test_data = test_data.reshape(test_data.shape[0], -1).transpose()\n",
    "test_label = np.array(test_label)"
   ]
  },
  {
   "cell_type": "markdown",
   "metadata": {},
   "source": [
    "Center the data (subtract the mean $\\mu=\\frac{1}{N}\\sum^N_{i=1}x^{(i)}$ from each data point)"
   ]
  },
  {
   "cell_type": "code",
   "execution_count": 149,
   "metadata": {},
   "outputs": [],
   "source": [
    "train_data = train_data - train_data.mean(axis=1).reshape(-1, 1)\n",
    "test_data = test_data - test_data.mean(axis=1).reshape(-1, 1)"
   ]
  },
  {
   "cell_type": "markdown",
   "metadata": {},
   "source": [
    "Compute the covariance matrix:\n",
    "$$\n",
    "S=\\frac{1}{N}\\sum^N_{i=1}x^{(i)}x^{(i)^T}=\\frac{1}{N}XX^T\n",
    "$$"
   ]
  },
  {
   "cell_type": "code",
   "execution_count": 150,
   "metadata": {},
   "outputs": [],
   "source": [
    "N = train_data.shape[1]\n",
    "S = np.dot(train_data, train_data.T) / N"
   ]
  },
  {
   "cell_type": "markdown",
   "metadata": {},
   "source": [
    "The eigendecomposition of the covariance matrix S"
   ]
  },
  {
   "cell_type": "code",
   "execution_count": 151,
   "metadata": {},
   "outputs": [],
   "source": [
    "W0, V0 = np.linalg.eig(S)"
   ]
  },
  {
   "cell_type": "code",
   "execution_count": 241,
   "metadata": {},
   "outputs": [],
   "source": [
    "W, V = np.real(W0), np.real(V0)\n",
    "# W, V = W0, V0"
   ]
  },
  {
   "cell_type": "code",
   "execution_count": 262,
   "metadata": {},
   "outputs": [],
   "source": [
    "index = (-W).argsort()\n",
    "W = W[index]\n",
    "V = V[:, index]"
   ]
  },
  {
   "cell_type": "code",
   "execution_count": 263,
   "metadata": {},
   "outputs": [],
   "source": [
    "def get_H(x, y):\n",
    "    m, n = x.shape\n",
    "    P = np.zeros((m, m))\n",
    "    for i in range(m):\n",
    "        for j in range(m):\n",
    "            P[i, j] = np.dot(x[i], x[j]) * y[i] * y[j]\n",
    "    return P"
   ]
  },
  {
   "cell_type": "code",
   "execution_count": 264,
   "metadata": {},
   "outputs": [],
   "source": [
    "def get_w(alpha, x, y):\n",
    "    w = np.zeros(x.shape)\n",
    "    w[:, 0] = x[:, 0] * alpha * y\n",
    "    w[:, 1] = x[:, 1] * alpha * y\n",
    "    return np.sum(w, axis=0)"
   ]
  },
  {
   "cell_type": "code",
   "execution_count": 265,
   "metadata": {},
   "outputs": [],
   "source": [
    "def get_b(alpha, w, x, y):\n",
    "    m, n = x.shape\n",
    "    index = []\n",
    "    for i in range(m):\n",
    "        if alpha[i] > 0:\n",
    "            index.append(i)\n",
    "    index = np.array(index)\n",
    "    \n",
    "    x = x[index]\n",
    "    y = y[index]\n",
    "\n",
    "    return (y - np.dot(x, w)).sum() / len(index)"
   ]
  },
  {
   "cell_type": "code",
   "execution_count": 266,
   "metadata": {},
   "outputs": [],
   "source": [
    "def solve_dual(x, y):\n",
    "    m, n = x.shape\n",
    "    P = get_H(x, y)\n",
    "    q = np.ones(m) * (-1)\n",
    "    G, h = None, None\n",
    "    A = y.astype('float')\n",
    "    b = np.zeros(1)\n",
    "    lb = np.zeros(m)\n",
    "    ub = None\n",
    "    \n",
    "    alpha = solve_qp(P, q, G, h, A, b, lb, ub, solver='cvxopt')\n",
    "    # print(alpha)\n",
    "\n",
    "    w = get_w(alpha, x, y)\n",
    "    b = get_b(alpha, w, x, y)\n",
    "\n",
    "    return w, b"
   ]
  },
  {
   "cell_type": "code",
   "execution_count": 267,
   "metadata": {},
   "outputs": [],
   "source": [
    "def pred(w, b, x):\n",
    "    return np.dot(x, w) + b"
   ]
  },
  {
   "cell_type": "code",
   "execution_count": 268,
   "metadata": {},
   "outputs": [],
   "source": [
    "def get_x_y(Z, label, label_1, label_2):\n",
    "    index_1 = np.where(label==label_1)[0]\n",
    "    index_2 = np.where(label==label_2)[0]\n",
    "\n",
    "    y_1 = [1 for _ in range(index_1.shape[0])]\n",
    "    y_2 = [-1 for _ in range(index_2.shape[0])]\n",
    "    y = np.array(y_1 + y_2)\n",
    "\n",
    "    index = np.concatenate((index_1, index_2)).flatten()\n",
    "    x = Z[:, index].transpose()\n",
    "    \n",
    "    return x, y"
   ]
  },
  {
   "cell_type": "code",
   "execution_count": 318,
   "metadata": {},
   "outputs": [],
   "source": [
    "def multi_classify_SVM(V, k):\n",
    "    U = V[:, :k]\n",
    "\n",
    "    train_Z = np.dot(U.T, train_data)\n",
    "    test_Z = np.dot(U.T, test_data)\n",
    "\n",
    "    w_b_list = []\n",
    "    index_list = []\n",
    "    for i in range(1, class_num+1):\n",
    "        for j in range(i+1, class_num+1):\n",
    "            index_list.append([i-1, j-1])\n",
    "            x, y = get_x_y(train_Z, train_label, i, j)\n",
    "            w, b = solve_dual(x, y)\n",
    "            w_b_list.append([w, b])\n",
    "\n",
    "    pred_res = []\n",
    "    for i in range(test_label.shape[0]):\n",
    "        temp = np.zeros(class_num)\n",
    "        for idx in range(len(w_b_list)):\n",
    "            res = pred(w_b_list[idx][0], w_b_list[idx][1], test_Z.transpose()[i])\n",
    "            if res >= 0:\n",
    "                temp[index_list[idx][0]] += 1\n",
    "            else:\n",
    "                temp[index_list[idx][1]] += 1\n",
    "        pred_res.append(temp.argmax()+1)\n",
    "        # print(temp.argmax()+1, test_label[i])\n",
    "    pred_res = np.array(pred_res)\n",
    "\n",
    "    return (pred_res == test_label).sum() / test_label.shape[0]"
   ]
  },
  {
   "cell_type": "code",
   "execution_count": 2,
   "metadata": {},
   "outputs": [
    {
     "data": {
      "text/plain": [
       "0.8233532934131736"
      ]
     },
     "execution_count": 2,
     "metadata": {},
     "output_type": "execute_result"
    }
   ],
   "source": [
    "multi_classify_SVM(V, 10)"
   ]
  },
  {
   "cell_type": "code",
   "execution_count": 3,
   "metadata": {},
   "outputs": [
    {
     "data": {
      "text/plain": [
       "0.9514970059880239"
      ]
     },
     "execution_count": 3,
     "metadata": {},
     "output_type": "execute_result"
    }
   ],
   "source": [
    "multi_classify_SVM(V, 20)"
   ]
  },
  {
   "cell_type": "code",
   "execution_count": 5,
   "metadata": {},
   "outputs": [
    {
     "data": {
      "text/plain": [
       "1.0"
      ]
     },
     "execution_count": 5,
     "metadata": {},
     "output_type": "execute_result"
    }
   ],
   "source": [
    "multi_classify_SVM(V, 30)"
   ]
  }
 ],
 "metadata": {
  "kernelspec": {
   "display_name": "Python 3.9.7 ('base')",
   "language": "python",
   "name": "python3"
  },
  "language_info": {
   "codemirror_mode": {
    "name": "ipython",
    "version": 3
   },
   "file_extension": ".py",
   "mimetype": "text/x-python",
   "name": "python",
   "nbconvert_exporter": "python",
   "pygments_lexer": "ipython3",
   "version": "3.9.7"
  },
  "orig_nbformat": 4,
  "vscode": {
   "interpreter": {
    "hash": "49cb93f377a7abe7414b7b0f21fb3017538004a126cf690fb524202736b7fb92"
   }
  }
 },
 "nbformat": 4,
 "nbformat_minor": 2
}
